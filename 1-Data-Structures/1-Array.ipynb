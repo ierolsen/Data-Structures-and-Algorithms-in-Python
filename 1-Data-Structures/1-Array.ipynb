{
 "cells": [
  {
   "cell_type": "markdown",
   "metadata": {},
   "source": [
    "# Content:\n",
    "\n",
    "\n",
    "\n",
    "\n",
    "* Dynamic Array with Python"
   ]
  },
  {
   "cell_type": "code",
   "execution_count": 1,
   "metadata": {},
   "outputs": [
    {
     "name": "stdout",
     "output_type": "stream",
     "text": [
      "[[1 2 3 4 5]]\n",
      "shape:  (1, 5)\n"
     ]
    }
   ],
   "source": [
    "import numpy as np\n",
    "\n",
    "array = np.array([[1,2,3,4,5]])\n",
    "print(array)\n",
    "print(\"shape: \",array.shape)"
   ]
  },
  {
   "cell_type": "code",
   "execution_count": 2,
   "metadata": {},
   "outputs": [
    {
     "name": "stdout",
     "output_type": "stream",
     "text": [
      "[[ 1  2  3  4  5]\n",
      " [ 6  7  8  9 10]]\n"
     ]
    }
   ],
   "source": [
    "array2D = np.array([[1,2,3,4,5], \n",
    "                   [6,7,8,9,10]])\n",
    "\n",
    "print(array2D)"
   ]
  },
  {
   "cell_type": "markdown",
   "metadata": {},
   "source": [
    "# Dynamic Array with Python"
   ]
  },
  {
   "cell_type": "code",
   "execution_count": 3,
   "metadata": {},
   "outputs": [],
   "source": [
    "import ctypes\n",
    "\n",
    "class DynamicArray(object):\n",
    "    \n",
    "    # initializer (constructor)\n",
    "    def __init__(self):\n",
    "        \n",
    "        self.n = 0 # number of values\n",
    "        self.capacity = 1\n",
    "        self.A = self.make_array(self.capacity)\n",
    "        \n",
    "    def __len__(self):\n",
    "        \"\"\"\n",
    "        return number of value of array\n",
    "        \"\"\"\n",
    "        return self.n\n",
    "    \n",
    "    def __getitem__(self,k):\n",
    "        \"\"\"\n",
    "        return number values in index k\n",
    "        \"\"\"\n",
    "        if not 0 <= k <= self.n:\n",
    "            return IndexError(\"k is out of bounds !\")\n",
    "        \n",
    "        return self.A[k]\n",
    "            \n",
    "        \n",
    "    def append(self,value):\n",
    "        \"\"\"\n",
    "        append value to array\n",
    "        \"\"\"\n",
    "        if self.n == self.capacity:\n",
    "            self._resize(2*self.capacity)\n",
    "            \n",
    "        self.A[self.n] = value # append value\n",
    "        self.n += 1 # add 1 to number of values\n",
    "        \n",
    "    def _resize(self,new_cap):\n",
    "        \"\"\"\n",
    "        increasing array capacity\n",
    "        \"\"\"\n",
    "        B = self.make_array(new_cap) # make new array\n",
    "        \n",
    "        # move old array which is inside of A to new array B\n",
    "        for k in range(self.n):\n",
    "            B[k] = self.A[k]\n",
    "            \n",
    "        self.A = B # update Array\n",
    "        self.capacity = new_cap # update capacity\n",
    "        \n",
    "    def make_array(self, new_cap):\n",
    "        \"\"\"\n",
    "        return new array\n",
    "        \"\"\"\n",
    "        \n",
    "        return (new_cap*ctypes.py_object)()"
   ]
  },
  {
   "cell_type": "code",
   "execution_count": 4,
   "metadata": {},
   "outputs": [
    {
     "name": "stdout",
     "output_type": "stream",
     "text": [
      "1\n",
      "1 3\n",
      "1 3 5\n"
     ]
    }
   ],
   "source": [
    "# define an object\n",
    "arr = DynamicArray()\n",
    "\n",
    "# append new element\n",
    "arr.append(1)\n",
    "print(arr[0])\n",
    "# append new element\n",
    "arr.append(3)\n",
    "print(arr[0],arr[1])\n",
    "# append new element\n",
    "arr.append(5)\n",
    "print(arr[0],arr[1],arr[2])"
   ]
  },
  {
   "cell_type": "code",
   "execution_count": 5,
   "metadata": {},
   "outputs": [
    {
     "name": "stdout",
     "output_type": "stream",
     "text": [
      "3\n"
     ]
    }
   ],
   "source": [
    "print(len(arr))"
   ]
  },
  {
   "cell_type": "markdown",
   "metadata": {},
   "source": [
    "## Array Challenge\n",
    "\n",
    "\n",
    "# Word Split Problem\n",
    "\n",
    "\n",
    "* input = [\"deeplearning\", \"d,dll,a,deep,dee,lear,learning\"]\n",
    "\n",
    "\n",
    "* output =   \"deep , learning\""
   ]
  },
  {
   "cell_type": "code",
   "execution_count": 6,
   "metadata": {},
   "outputs": [],
   "source": [
    "def wordSplit(liste):\n",
    "    \n",
    "    word = list(liste[0])\n",
    "    d = liste[1].split(\",\")\n",
    "    \n",
    "    for i in range(1,len(word)):\n",
    "        c = word[:]\n",
    "        c.insert(i,\" \")\n",
    "        \n",
    "        x,y = \"\".join(c).split()\n",
    "        if x in d and y in d:\n",
    "            return x + \" , \" + y\n",
    "        \n",
    "    return \"Not Match!\""
   ]
  },
  {
   "cell_type": "code",
   "execution_count": 7,
   "metadata": {},
   "outputs": [
    {
     "name": "stdout",
     "output_type": "stream",
     "text": [
      "deep , learning\n"
     ]
    }
   ],
   "source": [
    "print(wordSplit([\"deeplearning\", \"d,dll,a,deep,dee,lear,learning\"]))"
   ]
  },
  {
   "cell_type": "code",
   "execution_count": null,
   "metadata": {},
   "outputs": [],
   "source": []
  }
 ],
 "metadata": {
  "kernelspec": {
   "display_name": "Python 3",
   "language": "python",
   "name": "python3"
  },
  "language_info": {
   "codemirror_mode": {
    "name": "ipython",
    "version": 3
   },
   "file_extension": ".py",
   "mimetype": "text/x-python",
   "name": "python",
   "nbconvert_exporter": "python",
   "pygments_lexer": "ipython3",
   "version": "3.7.3"
  }
 },
 "nbformat": 4,
 "nbformat_minor": 2
}
